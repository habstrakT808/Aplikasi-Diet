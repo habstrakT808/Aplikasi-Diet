{
 "cells": [
  {
   "cell_type": "code",
   "execution_count": 6,
   "id": "a947e568",
   "metadata": {},
   "outputs": [],
   "source": [
    "# Import library\n",
    "import pandas as pd\n",
    "import numpy as np"
   ]
  },
  {
   "cell_type": "code",
   "execution_count": 7,
   "id": "32d0a082",
   "metadata": {},
   "outputs": [
    {
     "name": "stdout",
     "output_type": "stream",
     "text": [
      "Membaca file dataset...\n"
     ]
    },
    {
     "name": "stderr",
     "output_type": "stream",
     "text": [
      "C:\\Users\\ACER\\AppData\\Local\\Temp\\ipykernel_31576\\896480988.py:4: DtypeWarning: Columns (9) have mixed types. Specify dtype option on import or set low_memory=False.\n",
      "  food_nutrient = pd.read_csv('food_nutrient.csv')\n"
     ]
    }
   ],
   "source": [
    "## Baca file dataset USDA\n",
    "print(\"Membaca file dataset...\")\n",
    "food = pd.read_csv('food.csv')\n",
    "food_nutrient = pd.read_csv('food_nutrient.csv')\n",
    "nutrient = pd.read_csv('nutrient.csv')\n",
    "food_portion = pd.read_csv('food_portion.csv')"
   ]
  },
  {
   "cell_type": "code",
   "execution_count": 8,
   "id": "aea270c9",
   "metadata": {},
   "outputs": [
    {
     "name": "stdout",
     "output_type": "stream",
     "text": [
      "Memeriksa struktur data...\n",
      "Kolom food: ['fdc_id', 'data_type', 'description', 'food_category_id', 'publication_date']\n",
      "Kolom food_nutrient: ['id', 'fdc_id', 'nutrient_id', 'amount', 'data_points', 'derivation_id', 'min', 'max', 'median', 'footnote', 'min_year_acquired']\n",
      "Kolom food_portion: ['id', 'fdc_id', 'seq_num', 'amount', 'measure_unit_id', 'portion_description', 'modifier', 'gram_weight', 'data_points', 'footnote', 'min_year_acquired']\n"
     ]
    }
   ],
   "source": [
    "## Cek data awal dan struktur\n",
    "print(\"Memeriksa struktur data...\")\n",
    "print(\"Kolom food:\", food.columns.tolist())\n",
    "print(\"Kolom food_nutrient:\", food_nutrient.columns.tolist())\n",
    "print(\"Kolom food_portion:\", food_portion.columns.tolist())"
   ]
  },
  {
   "cell_type": "code",
   "execution_count": 9,
   "id": "023b07bb",
   "metadata": {},
   "outputs": [
    {
     "name": "stdout",
     "output_type": "stream",
     "text": [
      "\n",
      "Menampilkan 20 nutrisi pertama:\n",
      "      id                                  name\n",
      "0   2047      Energy (Atwater General Factors)\n",
      "1   2048     Energy (Atwater Specific Factors)\n",
      "2   1001                                Solids\n",
      "3   1002                              Nitrogen\n",
      "4   1003                               Protein\n",
      "5   1004                     Total lipid (fat)\n",
      "6   1005           Carbohydrate, by difference\n",
      "7   1006  Fiber, crude (DO NOT USE - Archived)\n",
      "8   1007                                   Ash\n",
      "9   1008                                Energy\n",
      "10  1009                                Starch\n",
      "11  1010                               Sucrose\n",
      "12  1011                               Glucose\n",
      "13  1012                              Fructose\n",
      "14  1013                               Lactose\n",
      "15  1014                               Maltose\n",
      "16  1015                               Amylose\n",
      "17  1016                           Amylopectin\n",
      "18  1017                                Pectin\n",
      "19  1018                        Alcohol, ethyl\n"
     ]
    }
   ],
   "source": [
    "## Cek nama nutrisi yang tersedia\n",
    "print(\"\\nMenampilkan 20 nutrisi pertama:\")\n",
    "print(nutrient[['id', 'name']].head(20))"
   ]
  },
  {
   "cell_type": "code",
   "execution_count": 10,
   "id": "6e0aeddc",
   "metadata": {},
   "outputs": [
    {
     "name": "stdout",
     "output_type": "stream",
     "text": [
      "\n",
      "Mencari nutrisi kalori:\n",
      "      id                               name unit_name  nutrient_nbr   rank\n",
      "0   2047   Energy (Atwater General Factors)      KCAL         957.0  280.0\n",
      "1   2048  Energy (Atwater Specific Factors)      KCAL         958.0  290.0\n",
      "9   1008                             Energy      KCAL         208.0  300.0\n",
      "63  1062                             Energy        kJ         268.0  400.0\n",
      "\n",
      "Mencari nutrisi protein:\n",
      "      id              name unit_name  nutrient_nbr   rank\n",
      "4   1003           Protein         G         203.0  600.0\n",
      "54  1053  Adjusted Protein         G         257.0  700.0\n",
      "\n",
      "Mencari nutrisi lemak:\n",
      "       id               name unit_name  nutrient_nbr      rank\n",
      "5    1004  Total lipid (fat)         G         204.0     800.0\n",
      "50   1049    Solids, non-fat         G         253.0  999999.0\n",
      "86   1085   Total fat (NLEA)         G         298.0     900.0\n",
      "256  1255      Phospholipids         G         603.0  999999.0\n",
      "257  1256        Glycolipids         G         604.0  999999.0\n",
      "\n",
      "Mencari nutrisi karbohidrat:\n",
      "       id                         name unit_name  nutrient_nbr    rank\n",
      "6    1005  Carbohydrate, by difference         G         205.0  1110.0\n",
      "51   1050   Carbohydrate, by summation         G         205.2  1120.0\n",
      "73   1072          Carbohydrate, other         G         284.0     NaN\n",
      "450  2039                Carbohydrates         G         956.0  1100.0\n",
      "\n",
      "Mencari nutrisi serat:\n",
      "      id                                              name unit_name  \\\n",
      "7   1006              Fiber, crude (DO NOT USE - Archived)         G   \n",
      "67  1066  Fiber, neutral detergent (DO NOT USE - Archived)         G   \n",
      "80  1079                              Fiber, total dietary         G   \n",
      "83  1082                                    Fiber, soluble         G   \n",
      "85  1084                                  Fiber, insoluble         G   \n",
      "\n",
      "    nutrient_nbr      rank  \n",
      "7          206.0  999999.0  \n",
      "67         273.0  999999.0  \n",
      "80         291.0    1200.0  \n",
      "83         295.0    1240.0  \n",
      "85         297.0    1260.0  \n",
      "\n",
      "Mencari nutrisi gula:\n",
      "       id                  name unit_name  nutrient_nbr      rank\n",
      "64   1063         Sugars, Total         G         269.3    1500.0\n",
      "68   1067       Reducing sugars         G         274.0  999999.0\n",
      "87   1086  Total sugar alcohols         G         299.0  999999.0\n",
      "236  1235         Sugars, added         G         539.0    1540.0\n",
      "237  1236     Sugars, intrinsic         G         549.0    1520.0\n",
      "\n",
      "Mencari nutrisi sodium:\n",
      "      id        name unit_name  nutrient_nbr    rank\n",
      "94  1093  Sodium, Na        MG         307.0  5800.0\n"
     ]
    }
   ],
   "source": [
    "## Tentukan nutrisi yang dibutuhkan untuk aplikasi diet\n",
    "# Cari nutrisi yang tersedia dengan nama yang mirip\n",
    "print(\"\\nMencari nutrisi kalori:\")\n",
    "print(nutrient[nutrient['name'].str.contains('Energy|Calorie', case=False)].head())\n",
    "print(\"\\nMencari nutrisi protein:\")\n",
    "print(nutrient[nutrient['name'].str.contains('Protein', case=False)].head())\n",
    "print(\"\\nMencari nutrisi lemak:\")\n",
    "print(nutrient[nutrient['name'].str.contains('Fat|Lipid', case=False)].head())\n",
    "print(\"\\nMencari nutrisi karbohidrat:\")\n",
    "print(nutrient[nutrient['name'].str.contains('Carbohydrate', case=False)].head())\n",
    "print(\"\\nMencari nutrisi serat:\")\n",
    "print(nutrient[nutrient['name'].str.contains('Fiber', case=False)].head())\n",
    "print(\"\\nMencari nutrisi gula:\")\n",
    "print(nutrient[nutrient['name'].str.contains('Sugar', case=False)].head())\n",
    "print(\"\\nMencari nutrisi sodium:\")\n",
    "print(nutrient[nutrient['name'].str.contains('Sodium', case=False)].head())"
   ]
  },
  {
   "cell_type": "code",
   "execution_count": 11,
   "id": "24f23736",
   "metadata": {},
   "outputs": [
    {
     "name": "stdout",
     "output_type": "stream",
     "text": [
      "\n",
      "Nutrisi yang akan digunakan:\n",
      "      id                         name\n",
      "4   1003                      Protein\n",
      "5   1004            Total lipid (fat)\n",
      "6   1005  Carbohydrate, by difference\n",
      "9   1008                       Energy\n",
      "63  1062                       Energy\n",
      "80  1079         Fiber, total dietary\n",
      "94  1093                   Sodium, Na\n"
     ]
    }
   ],
   "source": [
    "## Tentukan ID nutrisi yang dibutuhkan (gunakan nama yang tersedia di dataset)\n",
    "# Sesuaikan dengan hasil pencarian di atas\n",
    "nutrient_needed = [\n",
    "    'Energy',                          # atau 'Calories, total'\n",
    "    'Protein',                         # atau 'Protein, total'\n",
    "    'Total lipid (fat)',               # atau 'Fat, total'\n",
    "    'Carbohydrate, by difference',     # atau 'Carbohydrate, total'\n",
    "    'Fiber, total dietary',            # atau 'Dietary fiber'\n",
    "    'Sugars, total',                   # atau nama lain yang tersedia\n",
    "    'Sodium, Na'                       # atau 'Sodium'\n",
    "]\n",
    "\n",
    "# Cari ID untuk nutrisi yang dibutuhkan dan tampilkan\n",
    "needed_nutrient_info = nutrient[nutrient['name'].isin(nutrient_needed)]\n",
    "print(\"\\nNutrisi yang akan digunakan:\")\n",
    "print(needed_nutrient_info[['id', 'name']])\n",
    "needed_nutrient_ids = needed_nutrient_info['id'].tolist()"
   ]
  },
  {
   "cell_type": "code",
   "execution_count": 12,
   "id": "80c60e09",
   "metadata": {},
   "outputs": [
    {
     "name": "stdout",
     "output_type": "stream",
     "text": [
      "\n",
      "Memfilter data nutrisi...\n"
     ]
    }
   ],
   "source": [
    "## Filter data nutrisi yang dibutuhkan\n",
    "print(\"\\nMemfilter data nutrisi...\")\n",
    "food_nutrient_filtered = food_nutrient[food_nutrient['nutrient_id'].isin(needed_nutrient_ids)]"
   ]
  },
  {
   "cell_type": "code",
   "execution_count": 13,
   "id": "c7ac9d04",
   "metadata": {},
   "outputs": [
    {
     "name": "stdout",
     "output_type": "stream",
     "text": [
      "Melakukan pivot data...\n",
      "Hasil pivot (5 baris pertama):\n",
      "nutrient_id  fdc_id  Protein  Total lipid (fat)  Carbohydrate, by difference  \\\n",
      "0            319877      NaN               19.0                          NaN   \n",
      "1            319878      NaN                NaN                          NaN   \n",
      "2            319882      NaN               18.7                          NaN   \n",
      "3            319884      NaN                NaN                          NaN   \n",
      "4            319892      NaN               16.6                          NaN   \n",
      "\n",
      "nutrient_id  Energy  Energy  Fiber, total dietary  Sodium, Na  \n",
      "0               NaN     NaN                   NaN         NaN  \n",
      "1               NaN     NaN                   NaN       446.0  \n",
      "2               NaN     NaN                   NaN         NaN  \n",
      "3               NaN     NaN                   NaN       444.0  \n",
      "4               NaN     NaN                   NaN         NaN  \n"
     ]
    }
   ],
   "source": [
    "## Pivot data (1 makanan = 1 baris dengan semua nutrisi)\n",
    "print(\"Melakukan pivot data...\")\n",
    "try:\n",
    "    # Gunakan try-except untuk menangani kesalahan\n",
    "    pivot = food_nutrient_filtered.pivot_table(\n",
    "        index='fdc_id', \n",
    "        columns='nutrient_id', \n",
    "        values='amount',\n",
    "        aggfunc='first'  # Ambil nilai pertama jika ada duplikat\n",
    "    ).reset_index()\n",
    "    \n",
    "    # Buat dictionary untuk rename kolom pivot\n",
    "    nutrient_dict = nutrient.set_index('id')['name'].to_dict()\n",
    "    pivot = pivot.rename(columns=nutrient_dict)\n",
    "    \n",
    "    # Tampilkan hasil pivot\n",
    "    print(\"Hasil pivot (5 baris pertama):\")\n",
    "    print(pivot.head())\n",
    "except KeyError as e:\n",
    "    print(f\"Error saat pivot: {e}\")\n",
    "    # Tampilkan kolom yang ada di food_nutrient\n",
    "    print(\"Kolom yang tersedia di food_nutrient:\", food_nutrient.columns.tolist())\n",
    "    # Jika 'fdc_id' tidak ada, cari kolom ID makanan\n",
    "    if 'fdc_id' not in food_nutrient.columns:\n",
    "        print(\"Kolom 'fdc_id' tidak ditemukan. Mencari kolom ID alternatif...\")\n",
    "        id_columns = [col for col in food_nutrient.columns if 'id' in col.lower()]\n",
    "        print(\"Kolom ID yang ditemukan:\", id_columns)\n",
    "        # Gunakan kolom ID pertama yang ditemukan\n",
    "        if id_columns:\n",
    "            food_id_column = id_columns[0]\n",
    "            print(f\"Menggunakan '{food_id_column}' sebagai ID makanan\")\n",
    "            # Ulangi pivot dengan kolom ID yang benar\n",
    "            pivot = food_nutrient_filtered.pivot_table(\n",
    "                index=food_id_column, \n",
    "                columns='nutrient_id', \n",
    "                values='amount',\n",
    "                aggfunc='first'\n",
    "            ).reset_index()\n",
    "            pivot = pivot.rename(columns=nutrient_dict)\n",
    "    else:\n",
    "        print(\"Terjadi kesalahan yang tidak dapat diatasi. Periksa struktur data.\")\n",
    "        raise"
   ]
  },
  {
   "cell_type": "code",
   "execution_count": 14,
   "id": "56ebb202",
   "metadata": {},
   "outputs": [
    {
     "name": "stdout",
     "output_type": "stream",
     "text": [
      "\n",
      "Menggabungkan dengan data makanan...\n",
      "Kolom di food: ['fdc_id', 'data_type', 'description', 'food_category_id', 'publication_date']\n",
      "Hasil penggabungan (5 baris pertama):\n",
      "   fdc_id  Protein  Total lipid (fat)  Carbohydrate, by difference  Energy  \\\n",
      "0  319877      NaN               19.0                          NaN     NaN   \n",
      "1  319878      NaN                NaN                          NaN     NaN   \n",
      "2  319882      NaN               18.7                          NaN     NaN   \n",
      "3  319884      NaN                NaN                          NaN     NaN   \n",
      "4  319892      NaN               16.6                          NaN     NaN   \n",
      "\n",
      "   Energy  Fiber, total dietary  Sodium, Na    name  \n",
      "0     NaN                   NaN         NaN  Hummus  \n",
      "1     NaN                   NaN       446.0  Hummus  \n",
      "2     NaN                   NaN         NaN  Hummus  \n",
      "3     NaN                   NaN       444.0  Hummus  \n",
      "4     NaN                   NaN         NaN  Hummus  \n"
     ]
    }
   ],
   "source": [
    "## Gabungkan dengan nama makanan\n",
    "print(\"\\nMenggabungkan dengan data makanan...\")\n",
    "try:\n",
    "    # Cek kolom di food yang berisi ID dan deskripsi\n",
    "    print(\"Kolom di food:\", food.columns.tolist())\n",
    "    \n",
    "    # Cari kolom yang berisi ID makanan dan deskripsi\n",
    "    food_id_column = 'fdc_id' if 'fdc_id' in food.columns else 'id'\n",
    "    description_column = 'description' if 'description' in food.columns else 'name'\n",
    "    \n",
    "    # Gabungkan dengan data makanan\n",
    "    data = pivot.merge(\n",
    "        food[[food_id_column, description_column]], \n",
    "        left_on='fdc_id', \n",
    "        right_on=food_id_column\n",
    "    )\n",
    "    \n",
    "    # Rename kolom\n",
    "    data = data.rename(columns={description_column: 'name'})\n",
    "    \n",
    "    print(\"Hasil penggabungan (5 baris pertama):\")\n",
    "    print(data.head())\n",
    "except Exception as e:\n",
    "    print(f\"Error saat merge dengan food: {e}\")\n",
    "    raise"
   ]
  },
  {
   "cell_type": "code",
   "execution_count": 15,
   "id": "a8cccb3a",
   "metadata": {},
   "outputs": [
    {
     "name": "stdout",
     "output_type": "stream",
     "text": [
      "\n",
      "Menggabungkan dengan data porsi...\n",
      "Kolom di food_portion: ['id', 'fdc_id', 'seq_num', 'amount', 'measure_unit_id', 'portion_description', 'modifier', 'gram_weight', 'data_points', 'footnote', 'min_year_acquired']\n",
      "Hasil setelah penggabungan porsi (5 baris pertama):\n",
      "   fdc_id  Protein  Total lipid (fat)  Carbohydrate, by difference  Energy  \\\n",
      "0  319877      NaN               19.0                          NaN     NaN   \n",
      "1  319878      NaN                NaN                          NaN     NaN   \n",
      "2  319882      NaN               18.7                          NaN     NaN   \n",
      "3  319884      NaN                NaN                          NaN     NaN   \n",
      "4  319892      NaN               16.6                          NaN     NaN   \n",
      "\n",
      "   Energy  Fiber, total dietary  Sodium, Na    name  gram_weight  \\\n",
      "0     NaN                   NaN         NaN  Hummus          NaN   \n",
      "1     NaN                   NaN       446.0  Hummus          NaN   \n",
      "2     NaN                   NaN         NaN  Hummus          NaN   \n",
      "3     NaN                   NaN       444.0  Hummus          NaN   \n",
      "4     NaN                   NaN         NaN  Hummus          NaN   \n",
      "\n",
      "  portion_description  \n",
      "0                 NaN  \n",
      "1                 NaN  \n",
      "2                 NaN  \n",
      "3                 NaN  \n",
      "4                 NaN  \n"
     ]
    }
   ],
   "source": [
    "## Gabungkan dengan ukuran porsi\n",
    "print(\"\\nMenggabungkan dengan data porsi...\")\n",
    "try:\n",
    "    # Cek kolom di food_portion\n",
    "    print(\"Kolom di food_portion:\", food_portion.columns.tolist())\n",
    "    \n",
    "    # Cari kolom yang berisi ID makanan, gram, dan deskripsi porsi\n",
    "    portion_id_column = 'fdc_id' if 'fdc_id' in food_portion.columns else 'food_id'\n",
    "    gram_column = 'gram_weight' if 'gram_weight' in food_portion.columns else 'amount'\n",
    "    portion_desc_column = 'portion_description' if 'portion_description' in food_portion.columns else 'description'\n",
    "    \n",
    "    # Group by untuk mendapatkan satu porsi per makanan\n",
    "    food_portion_simple = food_portion.groupby(portion_id_column).first().reset_index()\n",
    "    \n",
    "    # Gabungkan dengan data porsi\n",
    "    data = data.merge(\n",
    "        food_portion_simple[[portion_id_column, gram_column, portion_desc_column]],\n",
    "        left_on='fdc_id',\n",
    "        right_on=portion_id_column,\n",
    "        how='left'\n",
    "    )\n",
    "    \n",
    "    print(\"Hasil setelah penggabungan porsi (5 baris pertama):\")\n",
    "    print(data.head())\n",
    "except Exception as e:\n",
    "    print(f\"Error saat merge dengan food_portion: {e}\")\n",
    "    # Jika gagal, tambahkan kolom porsi default\n",
    "    print(\"Menambahkan kolom porsi default...\")\n",
    "    data['gram_weight'] = 100  # Default 100 gram\n",
    "    data['portion_description'] = 'Default portion (100g)'"
   ]
  },
  {
   "cell_type": "code",
   "execution_count": 16,
   "id": "57c88e33",
   "metadata": {},
   "outputs": [
    {
     "name": "stdout",
     "output_type": "stream",
     "text": [
      "\n",
      "Menambahkan kategori makanan...\n",
      "Tidak bisa menambahkan kategori makanan: 'food_category_id'\n"
     ]
    }
   ],
   "source": [
    "## Tambahkan kolom kategori makanan (opsional, jika ada)\n",
    "try:\n",
    "    if 'food_category_id' in food.columns:\n",
    "        print(\"\\nMenambahkan kategori makanan...\")\n",
    "        # Baca file kategori makanan jika ada\n",
    "        food_category = pd.read_csv('food_category.csv')\n",
    "        # Gabungkan dengan kategori\n",
    "        data = data.merge(\n",
    "            food_category[['id', 'description']],\n",
    "            left_on='food_category_id',\n",
    "            right_on='id',\n",
    "            how='left'\n",
    "        )\n",
    "        data = data.rename(columns={'description_y': 'food_category'})\n",
    "except Exception as e:\n",
    "    print(f\"Tidak bisa menambahkan kategori makanan: {e}\")\n",
    "    # Tambahkan kategori default\n",
    "    data['food_category'] = 'Uncategorized'"
   ]
  },
  {
   "cell_type": "code",
   "execution_count": 17,
   "id": "ea0c8986",
   "metadata": {},
   "outputs": [
    {
     "name": "stdout",
     "output_type": "stream",
     "text": [
      "\n",
      "Menyusun kolom akhir...\n",
      "Kolom yang tersedia: ['fdc_id', 'Protein', 'Total lipid (fat)', 'Carbohydrate, by difference', 'Energy', 'Energy', 'Fiber, total dietary', 'Sodium, Na', 'name', 'gram_weight', 'portion_description', 'food_category']\n",
      "Kolom final yang akan digunakan: ['name', 'Energy', 'Protein', 'Total lipid (fat)', 'Carbohydrate, by difference', 'Fiber, total dietary', 'Sodium, Na', 'gram_weight', 'portion_description', 'food_category']\n"
     ]
    }
   ],
   "source": [
    "## Susun kolom akhir dan rename\n",
    "print(\"\\nMenyusun kolom akhir...\")\n",
    "# Dapatkan kolom yang tersedia di data\n",
    "available_columns = data.columns.tolist()\n",
    "print(\"Kolom yang tersedia:\", available_columns)\n",
    "\n",
    "# Cari kolom nutrisi yang tersedia\n",
    "energy_col = next((col for col in available_columns if 'Energy' in col or 'Calorie' in col), None)\n",
    "protein_col = next((col for col in available_columns if 'Protein' in col), None)\n",
    "fat_col = next((col for col in available_columns if 'lipid' in col.lower() or 'fat' in col.lower()), None)\n",
    "carb_col = next((col for col in available_columns if 'Carbohydrate' in col), None)\n",
    "fiber_col = next((col for col in available_columns if 'Fiber' in col), None)\n",
    "sugar_col = next((col for col in available_columns if 'Sugar' in col), None)\n",
    "sodium_col = next((col for col in available_columns if 'Sodium' in col), None)\n",
    "\n",
    "# Buat list kolom untuk final dataset\n",
    "final_columns = ['name']\n",
    "if energy_col: final_columns.append(energy_col)\n",
    "if protein_col: final_columns.append(protein_col)\n",
    "if fat_col: final_columns.append(fat_col)\n",
    "if carb_col: final_columns.append(carb_col)\n",
    "if fiber_col: final_columns.append(fiber_col)\n",
    "if sugar_col: final_columns.append(sugar_col)\n",
    "if sodium_col: final_columns.append(sodium_col)\n",
    "\n",
    "# Tambahkan kolom porsi\n",
    "if 'gram_weight' in available_columns: final_columns.append('gram_weight')\n",
    "if 'portion_description' in available_columns: final_columns.append('portion_description')\n",
    "\n",
    "# Tambahkan kategori jika ada\n",
    "if 'food_category' in available_columns: final_columns.append('food_category')\n",
    "\n",
    "# Buat dataframe final\n",
    "print(\"Kolom final yang akan digunakan:\", final_columns)\n",
    "final = data[final_columns].copy()\n",
    "\n",
    "# Rename kolom ke format yang lebih sederhana\n",
    "column_mapping = {\n",
    "    energy_col: 'calories' if energy_col else None,\n",
    "    protein_col: 'protein' if protein_col else None,\n",
    "    fat_col: 'fat' if fat_col else None,\n",
    "    carb_col: 'carbohydrate' if carb_col else None,\n",
    "    fiber_col: 'fiber' if fiber_col else None,\n",
    "    sugar_col: 'sugar' if sugar_col else None,\n",
    "    sodium_col: 'sodium' if sodium_col else None,\n",
    "    'gram_weight': 'portion_size',\n",
    "    'portion_description': 'serving_unit'\n",
    "}\n",
    "\n",
    "# Hapus None dari mapping\n",
    "column_mapping = {k: v for k, v in column_mapping.items() if k is not None}\n",
    "final = final.rename(columns=column_mapping)\n",
    "\n",
    "# Ganti NaN dengan 0 untuk nilai nutrisi\n",
    "for col in ['calories', 'protein', 'fat', 'carbohydrate', 'fiber', 'sugar', 'sodium']:\n",
    "    if col in final.columns:\n",
    "        final[col] = final[col].fillna(0)\n",
    "\n",
    "# Tambahkan kolom food_category jika belum ada\n",
    "if 'food_category' not in final.columns:\n",
    "    final['food_category'] = 'Uncategorized'\n",
    "\n",
    "# Tambahkan kolom allergens kosong\n",
    "final['allergens'] = 'None'\n",
    "\n",
    "# Tambahkan kolom glycemic_index default\n",
    "final['glycemic_index'] = 0  # Default value"
   ]
  },
  {
   "cell_type": "code",
   "execution_count": 18,
   "id": "7e5393a3",
   "metadata": {},
   "outputs": [
    {
     "name": "stdout",
     "output_type": "stream",
     "text": [
      "\n",
      "Menyimpan hasil ke CSV...\n",
      "CSV cleaned berhasil disimpan!\n"
     ]
    }
   ],
   "source": [
    "## Simpan ke CSV\n",
    "print(\"\\nMenyimpan hasil ke CSV...\")\n",
    "final.to_csv('usda_cleaned_for_diet_app.csv', index=False)\n",
    "print(\"CSV cleaned berhasil disimpan!\")"
   ]
  },
  {
   "cell_type": "code",
   "execution_count": 19,
   "id": "6fd55b2e",
   "metadata": {},
   "outputs": [
    {
     "name": "stdout",
     "output_type": "stream",
     "text": [
      "\n",
      "Hasil akhir (5 baris pertama):\n",
      "     name  calories  calories  protein   fat  carbohydrate  fiber  sodium  \\\n",
      "0  Hummus       0.0       0.0      0.0  19.0           0.0    0.0     0.0   \n",
      "1  Hummus       0.0       0.0      0.0   0.0           0.0    0.0   446.0   \n",
      "2  Hummus       0.0       0.0      0.0  18.7           0.0    0.0     0.0   \n",
      "3  Hummus       0.0       0.0      0.0   0.0           0.0    0.0   444.0   \n",
      "4  Hummus       0.0       0.0      0.0  16.6           0.0    0.0     0.0   \n",
      "\n",
      "   portion_size serving_unit  food_category allergens  glycemic_index  \n",
      "0           NaN          NaN  Uncategorized      None               0  \n",
      "1           NaN          NaN  Uncategorized      None               0  \n",
      "2           NaN          NaN  Uncategorized      None               0  \n",
      "3           NaN          NaN  Uncategorized      None               0  \n",
      "4           NaN          NaN  Uncategorized      None               0  \n",
      "\n",
      "Info kolom:\n"
     ]
    },
    {
     "name": "stdout",
     "output_type": "stream",
     "text": [
      "<class 'pandas.core.frame.DataFrame'>\n",
      "RangeIndex: 9006 entries, 0 to 9005\n",
      "Data columns (total 13 columns):\n",
      " #   Column          Non-Null Count  Dtype  \n",
      "---  ------          --------------  -----  \n",
      " 0   name            9006 non-null   object \n",
      " 1   calories        9006 non-null   float64\n",
      " 2   calories        9006 non-null   float64\n",
      " 3   protein         9006 non-null   float64\n",
      " 4   fat             9006 non-null   float64\n",
      " 5   carbohydrate    9006 non-null   float64\n",
      " 6   fiber           9006 non-null   float64\n",
      " 7   sodium          9006 non-null   float64\n",
      " 8   portion_size    112 non-null    float64\n",
      " 9   serving_unit    1 non-null      object \n",
      " 10  food_category   9006 non-null   object \n",
      " 11  allergens       9006 non-null   object \n",
      " 12  glycemic_index  9006 non-null   int64  \n",
      "dtypes: float64(8), int64(1), object(4)\n",
      "memory usage: 914.8+ KB\n",
      "None\n",
      "\n",
      "Statistik deskriptif:\n",
      "          calories     calories      protein          fat  carbohydrate  \\\n",
      "count  9006.000000  9006.000000  9006.000000  9006.000000   9006.000000   \n",
      "mean      2.909866    12.178571     3.027720     4.404857      0.732190   \n",
      "std      31.060611   129.996995     7.915104    11.843753      6.116771   \n",
      "min       0.000000     0.000000     0.000000     0.000000     -0.705000   \n",
      "25%       0.000000     0.000000     0.000000     0.000000      0.000000   \n",
      "50%       0.000000     0.000000     0.000000     0.000000      0.000000   \n",
      "75%       0.000000     0.000000     0.000000     1.410000      0.000000   \n",
      "max     833.000000  3480.000000    79.900000    99.400000     99.600000   \n",
      "\n",
      "             fiber        sodium  portion_size  glycemic_index  \n",
      "count  9006.000000   9006.000000    112.000000          9006.0  \n",
      "mean      1.023505    210.650978    158.546429             0.0  \n",
      "std       2.646084   2093.242141    180.521100             0.0  \n",
      "min       0.000000      0.000000      3.200000             0.0  \n",
      "25%       0.000000      0.000000     28.400000             0.0  \n",
      "50%       0.000000      0.000000    112.500000             0.0  \n",
      "75%       0.000000      5.635000    182.000000             0.0  \n",
      "max      43.940000  40700.000000    788.000000             0.0  \n",
      "\n",
      "Total 9006 makanan berhasil diproses\n"
     ]
    }
   ],
   "source": [
    "## Lihat hasil akhir\n",
    "print(\"\\nHasil akhir (5 baris pertama):\")\n",
    "print(final.head())\n",
    "print(\"\\nInfo kolom:\")\n",
    "print(final.info())\n",
    "print(\"\\nStatistik deskriptif:\")\n",
    "print(final.describe())\n",
    "\n",
    "# Tambahkan informasi jumlah makanan\n",
    "print(f\"\\nTotal {len(final)} makanan berhasil diproses\")"
   ]
  }
 ],
 "metadata": {
  "kernelspec": {
   "display_name": "Python 3",
   "language": "python",
   "name": "python3"
  },
  "language_info": {
   "codemirror_mode": {
    "name": "ipython",
    "version": 3
   },
   "file_extension": ".py",
   "mimetype": "text/x-python",
   "name": "python",
   "nbconvert_exporter": "python",
   "pygments_lexer": "ipython3",
   "version": "3.8.4"
  }
 },
 "nbformat": 4,
 "nbformat_minor": 5
}
